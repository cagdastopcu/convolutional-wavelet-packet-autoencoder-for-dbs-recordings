{
  "nbformat": 4,
  "nbformat_minor": 0,
  "metadata": {
    "colab": {
      "provenance": [],
      "authorship_tag": "ABX9TyM5VjRQkUHLsMkj2At4VH8b",
      "include_colab_link": true
    },
    "kernelspec": {
      "name": "python3",
      "display_name": "Python 3"
    },
    "language_info": {
      "name": "python"
    },
    "accelerator": "GPU",
    "gpuClass": "standard"
  },
  "cells": [
    {
      "cell_type": "markdown",
      "metadata": {
        "id": "view-in-github",
        "colab_type": "text"
      },
      "source": [
        "<a href=\"https://colab.research.google.com/github/cagdastopcu/convolutional-wavelet-packet-autoencoder-for-dbs-recordings/blob/main/step_001_dbs_macro_autoen_active.ipynb\" target=\"_parent\"><img src=\"https://colab.research.google.com/assets/colab-badge.svg\" alt=\"Open In Colab\"/></a>"
      ]
    },
    {
      "cell_type": "code",
      "execution_count": null,
      "metadata": {
        "id": "kC2emjoqeQ5O"
      },
      "outputs": [],
      "source": [
        "import torch\n",
        "import torch.nn as nn\n",
        "from torch.nn import functional as F\n",
        "from torchvision import transforms\n",
        "from torch.utils.data import Dataset, DataLoader\n",
        "from torch.utils.data import Subset\n",
        "from torchvision.datasets import ImageFolder\n",
        "from torch.autograd import Variable\n",
        "import torch.optim as optim\n",
        "from torch.optim import lr_scheduler\n",
        "import copy\n",
        "import time\n",
        "from tqdm import tqdm\n",
        "import matplotlib.pyplot as plt\n",
        "from sklearn.metrics import confusion_matrix\n",
        "import seaborn as sns\n",
        "import numpy as np\n",
        "import os\n",
        "import tarfile\n",
        "import PIL\n",
        "from sklearn.model_selection import train_test_split\n",
        "from sklearn.metrics import roc_curve\n",
        "from sklearn.metrics import auc\n",
        "from sklearn.metrics import precision_recall_curve\n",
        "from scipy.interpolate import interp1d\n",
        "\n",
        "from scipy.stats import boltzmann\n",
        "import scipy.stats as stats\n"
      ]
    },
    {
      "cell_type": "code",
      "source": [
        "from google.colab import drive \n",
        "drive.mount('/content/gdrive')"
      ],
      "metadata": {
        "colab": {
          "base_uri": "https://localhost:8080/"
        },
        "id": "XxChwLUtCP3L",
        "outputId": "6c829f4f-c154-42b9-80d3-871a8b82bad9"
      },
      "execution_count": null,
      "outputs": [
        {
          "output_type": "stream",
          "name": "stdout",
          "text": [
            "Mounted at /content/gdrive\n"
          ]
        }
      ]
    },
    {
      "cell_type": "code",
      "source": [
        "subNames = ['210319','210413','210505','210527',\n",
        "            '210708','210805','210909']\n",
        "\n",
        "sub_name = subNames[0]\n",
        "\n",
        "wpte = np.load('/content/gdrive/My Drive/dbs_macro_active/dbs_macro_wpte/DBS_sub_210909_macro_4khz_9sec_ENCODE_filt_wpte.npy')"
      ],
      "metadata": {
        "id": "wewhEFC6CrWl"
      },
      "execution_count": null,
      "outputs": []
    },
    {
      "cell_type": "code",
      "source": [
        "print(wpte.shape)"
      ],
      "metadata": {
        "colab": {
          "base_uri": "https://localhost:8080/"
        },
        "id": "qQ8_810ADF-X",
        "outputId": "c8a71b18-e5cb-43f7-e251-9cbac1312ad0"
      },
      "execution_count": null,
      "outputs": [
        {
          "output_type": "stream",
          "name": "stdout",
          "text": [
            "(120, 6, 516, 201)\n"
          ]
        }
      ]
    },
    {
      "cell_type": "code",
      "source": [
        "chan00 = wpte[:,0,3:73,66:136]\n",
        "print(chan00.shape)\n",
        "data = chan00\n",
        "data = torch.from_numpy(data)\n",
        "#print(data)\n"
      ],
      "metadata": {
        "colab": {
          "base_uri": "https://localhost:8080/"
        },
        "id": "8gznCax9DOyV",
        "outputId": "dc03dbc5-0de6-4698-a11b-5579ffc46fe0"
      },
      "execution_count": null,
      "outputs": [
        {
          "output_type": "stream",
          "name": "stdout",
          "text": [
            "(120, 70, 70)\n"
          ]
        }
      ]
    },
    {
      "cell_type": "code",
      "source": [
        "np.random.seed(42)\n",
        "torch.manual_seed(42)"
      ],
      "metadata": {
        "colab": {
          "base_uri": "https://localhost:8080/"
        },
        "id": "3jPYWM9EfuaC",
        "outputId": "47bec264-0614-47c4-bc70-6f5a9b60b2d9"
      },
      "execution_count": null,
      "outputs": [
        {
          "output_type": "execute_result",
          "data": {
            "text/plain": [
              "<torch._C.Generator at 0x7fe99b89ea30>"
            ]
          },
          "metadata": {},
          "execution_count": 7
        }
      ]
    },
    {
      "cell_type": "code",
      "source": [
        "##########################\n",
        "### SETTINGS\n",
        "##########################\n",
        "\n",
        "# Device\n",
        "CUDA_DEVICE_NUM = 0\n",
        "DEVICE = torch.device(f'cuda:{CUDA_DEVICE_NUM}' if torch.cuda.is_available() else 'cpu')\n",
        "print('Device:', DEVICE)\n",
        "\n",
        "# Hyperparameters\n",
        "RANDOM_SEED = 123\n",
        "LEARNING_RATE = 0.0001\n",
        "BATCH_SIZE = 1\n",
        "NUM_EPOCHS = 50"
      ],
      "metadata": {
        "colab": {
          "base_uri": "https://localhost:8080/"
        },
        "id": "4hVZd_WsfGzE",
        "outputId": "70594cff-c745-4789-aba4-8fe0315660f0"
      },
      "execution_count": null,
      "outputs": [
        {
          "output_type": "stream",
          "name": "stdout",
          "text": [
            "Device: cuda:0\n"
          ]
        }
      ]
    },
    {
      "cell_type": "code",
      "source": [
        "##########################\n",
        "### MODEL - new\n",
        "##########################\n",
        "\n",
        "\n",
        "class Reshape(nn.Module):\n",
        "    def __init__(self, *args):\n",
        "        super().__init__()\n",
        "        self.shape = args\n",
        "\n",
        "    def forward(self, x):\n",
        "        return x.view(self.shape)\n",
        "\n",
        "\n",
        "class Trim(nn.Module):\n",
        "    def __init__(self, *args):\n",
        "        super().__init__()\n",
        "\n",
        "    def forward(self, x):\n",
        "        return x[:, :, :70, :70]\n",
        "        #return torch.squeeze(x[:, :, :128, :128],0)\n",
        "\n",
        "\n",
        "class AutoEncoder(nn.Module):\n",
        "    def __init__(self):\n",
        "        super().__init__()\n",
        "        \n",
        "        self.encoder = nn.Sequential( #784\n",
        "                nn.Conv2d(1, 32, stride=(1, 1), kernel_size=(3, 3), padding=1),\n",
        "                nn.LeakyReLU(0.01),\n",
        "                nn.Conv2d(32, 64, stride=(2, 2), kernel_size=(3, 3), padding=1),\n",
        "                nn.LeakyReLU(0.01),\n",
        "                nn.Conv2d(64, 64, stride=(2, 2), kernel_size=(3, 3), padding=1),\n",
        "                nn.LeakyReLU(0.01),\n",
        "                nn.Conv2d(64, 64, stride=(1, 1), kernel_size=(3, 3), padding=1),\n",
        "                #nn.MaxPool2d(2, 2),\n",
        "                nn.Flatten(),\n",
        "                nn.Linear(20736, 64)\n",
        "        )\n",
        "        self.decoder = nn.Sequential(\n",
        "                torch.nn.Linear(64, 20736),\n",
        "                Reshape(-1, 64, 18, 18),\n",
        "                nn.ConvTranspose2d(64, 64, stride=(1, 1), kernel_size=(3, 3), padding=1),\n",
        "                nn.LeakyReLU(0.01),\n",
        "                nn.ConvTranspose2d(64, 64, stride=(2, 2), kernel_size=(3, 3), padding=1),                \n",
        "                nn.LeakyReLU(0.01),\n",
        "                nn.ConvTranspose2d(64, 32, stride=(2, 2), kernel_size=(3, 3), padding=0),                \n",
        "                nn.LeakyReLU(0.01),\n",
        "                nn.ConvTranspose2d(32, 1, stride=(1, 1), kernel_size=(3, 3), padding=0), \n",
        "                #nn.ConvTranspose2d(32, 1, stride=(3, 3), kernel_size=(2, 2), padding=1), \n",
        "                Trim(),  # 1x29x29 -> 1x28x28\n",
        "                nn.Sigmoid()\n",
        "                )\n",
        "\n",
        "    def forward(self, x):\n",
        "        x = self.encoder(x)\n",
        "        x = self.decoder(x)\n",
        "        return x"
      ],
      "metadata": {
        "id": "b8jaoS5jeeLJ"
      },
      "execution_count": null,
      "outputs": []
    },
    {
      "cell_type": "code",
      "source": [
        "def compute_epoch_loss_autoencoder(model, data_loader, loss_fn, device):\n",
        "    model.eval()\n",
        "    curr_loss, num_examples = 0., 0\n",
        "    with torch.no_grad():\n",
        "        for features, _ in data_loader:\n",
        "            features = features.to(device)\n",
        "            logits = model(features)\n",
        "            loss = loss_fn(logits, features, reduction='sum')\n",
        "            num_examples += features.size(0)\n",
        "            curr_loss += loss\n",
        "\n",
        "        curr_loss = curr_loss / num_examples\n",
        "        return curr_loss"
      ],
      "metadata": {
        "id": "4IqIS-2_ic3J"
      },
      "execution_count": null,
      "outputs": []
    },
    {
      "cell_type": "code",
      "source": [
        "def train_autoencoder_v1(num_epochs, model, optimizer, device, \n",
        "                         train_loader, loss_fn=None,\n",
        "                         logging_interval=100, \n",
        "                         skip_epoch_stats=False,\n",
        "                         save_model=None):\n",
        "    \n",
        "    log_dict = {'train_loss_per_batch': [],\n",
        "                'train_loss_per_epoch': []}\n",
        "    \n",
        "    if loss_fn is None:\n",
        "        loss_fn = F.mse_loss\n",
        "        #loss_fn = nn.BCELoss()\n",
        "\n",
        "    start_time = time.time()\n",
        "    for epoch in range(num_epochs):\n",
        "\n",
        "        model.train()\n",
        "        #for batch_idx, (features, _) in enumerate(train_loader):\n",
        "        for batch_idx, features in enumerate(train_loader):\n",
        "            features = features[None,:,:,:]\n",
        "            features = features.to(device)\n",
        "            #print(features.shape)\n",
        "\n",
        "            # FORWARD AND BACK PROP\n",
        "            logits = model(features)\n",
        "            #print(logits.shape)\n",
        "            loss = loss_fn(logits, features)\n",
        "            optimizer.zero_grad()\n",
        "\n",
        "            loss.backward()\n",
        "\n",
        "            # UPDATE MODEL PARAMETERS\n",
        "            optimizer.step()\n",
        "\n",
        "            # LOGGING\n",
        "            log_dict['train_loss_per_batch'].append(loss.item())\n",
        "            \n",
        "            if not batch_idx % logging_interval:\n",
        "                print('Epoch: %03d/%03d | Batch %04d/%04d | Loss: %.4f'\n",
        "                      % (epoch+1, num_epochs, batch_idx,\n",
        "                          len(train_loader), loss))\n",
        "\n",
        "        if not skip_epoch_stats:\n",
        "            model.eval()\n",
        "            \n",
        "            with torch.set_grad_enabled(False):  # save memory during inference\n",
        "                \n",
        "                train_loss = compute_epoch_loss_autoencoder(\n",
        "                    model, train_loader, loss_fn, device)\n",
        "                print('***Epoch: %03d/%03d | Loss: %.3f' % (\n",
        "                      epoch+1, num_epochs, train_loss))\n",
        "                log_dict['train_loss_per_epoch'].append(train_loss.item())\n",
        "\n",
        "        print('Time elapsed: %.2f min' % ((time.time() - start_time)/60))\n",
        "\n",
        "    print('Total Training Time: %.2f min' % ((time.time() - start_time)/60))\n",
        "    if save_model is not None:\n",
        "        torch.save(model.state_dict(), save_model)\n",
        "    \n",
        "    return log_dict"
      ],
      "metadata": {
        "id": "f0-AZwg2f-bf"
      },
      "execution_count": null,
      "outputs": []
    },
    {
      "cell_type": "code",
      "source": [
        "print(type(wpte))\n",
        "print(wpte.shape)\n",
        "\n",
        "print(np.reshape(wpte,(120*6,1,516,201)).shape)\n",
        "\n",
        "chan_data = wpte[:,0,3:73,66:136]\n",
        "print(chan_data.shape)"
      ],
      "metadata": {
        "colab": {
          "base_uri": "https://localhost:8080/"
        },
        "id": "CQr0Fo4TTqGz",
        "outputId": "95a3c35a-456c-42d6-853a-d767ee302786"
      },
      "execution_count": null,
      "outputs": [
        {
          "output_type": "stream",
          "name": "stdout",
          "text": [
            "<class 'numpy.ndarray'>\n",
            "(120, 6, 516, 201)\n",
            "(720, 1, 516, 201)\n",
            "(120, 70, 70)\n"
          ]
        }
      ]
    },
    {
      "cell_type": "code",
      "source": [
        "# Create training and test dataloaders\n",
        "\n",
        "num_workers = 2\n",
        "# how many samples per batch to load\n",
        "batch_size = 1\n",
        "wpte_ch_shape = np.reshape(wpte,(120*6,1,516,201),order='F')\n",
        "chan_data = wpte_ch_shape[:,0,3:73,66:136]\n",
        "\n",
        "#chan_data = wpte[:,0,3:73,66:136]\n",
        "\n",
        "print(chan_data.shape)\n",
        "data = chan_data\n",
        "data = torch.from_numpy(data)\n",
        "\n",
        "train_data = stats.zscore(data, axis=2, ddof=1)\n",
        "train_data = train_data\n",
        "#train_data = train_data - train_data.min()\n",
        "#train_data = train_data/train_data.max()\n",
        "#train_data = data/data.max()\n",
        "#test_data = group_b[:20,:,:]/group_b.max()\n",
        "\n",
        "# prepare data loaders\n",
        "train_loader = torch.utils.data.DataLoader(train_data, batch_size=batch_size, num_workers=num_workers)\n",
        "#test_loader = torch.utils.data.DataLoader(test_data, batch_size=batch_size, num_workers=num_workers)\n",
        "print(train_loader)\n",
        "#print(test_loader)"
      ],
      "metadata": {
        "colab": {
          "base_uri": "https://localhost:8080/"
        },
        "id": "X4vBhajNiyQC",
        "outputId": "084c3526-73b0-49b2-b9cb-59177078f492"
      },
      "execution_count": null,
      "outputs": [
        {
          "output_type": "stream",
          "name": "stdout",
          "text": [
            "(720, 70, 70)\n",
            "<torch.utils.data.dataloader.DataLoader object at 0x7fea0c415450>\n"
          ]
        }
      ]
    },
    {
      "cell_type": "code",
      "source": [
        "plt.imshow(train_data[6,:,:])\n",
        "print(train_data.min())\n",
        "\n"
      ],
      "metadata": {
        "colab": {
          "base_uri": "https://localhost:8080/",
          "height": 289
        },
        "id": "9FMPBc3yd3DS",
        "outputId": "fcda5c2e-f69d-4cd6-fa15-22a65e1b7156"
      },
      "execution_count": null,
      "outputs": [
        {
          "output_type": "stream",
          "name": "stdout",
          "text": [
            "tensor(-4.1531)\n"
          ]
        },
        {
          "output_type": "display_data",
          "data": {
            "text/plain": [
              "<Figure size 432x288 with 1 Axes>"
            ],
            "image/png": "[encoded data removed]"
          },
          "metadata": {
            "needs_background": "light"
          }
        }
      ]
    },
    {
      "cell_type": "code",
      "source": [
        "model = AutoEncoder()\n",
        "model.to(DEVICE)\n",
        "\n",
        "optimizer = torch.optim.Adam(model.parameters(), lr=LEARNING_RATE)  "
      ],
      "metadata": {
        "id": "a2poa2CkgL0H"
      },
      "execution_count": null,
      "outputs": []
    },
    {
      "cell_type": "code",
      "source": [
        "log_dict = train_autoencoder_v1(num_epochs=NUM_EPOCHS, model=model, \n",
        "                                optimizer=optimizer, device=DEVICE, \n",
        "                                train_loader=train_loader,\n",
        "                                skip_epoch_stats=True,\n",
        "                                logging_interval=250)"
      ],
      "metadata": {
        "colab": {
          "base_uri": "https://localhost:8080/"
        },
        "id": "NzlXyr-tfEw5",
        "outputId": "1aec7de7-eeb8-4c46-909a-65e7bbbeb4f1"
      },
      "execution_count": null,
      "outputs": [
        {
          "output_type": "stream",
          "name": "stdout",
          "text": [
            "Epoch: 001/050 | Batch 0000/0720 | Loss: 1.2275\n",
            "Epoch: 001/050 | Batch 0250/0720 | Loss: 0.9847\n",
            "Epoch: 001/050 | Batch 0500/0720 | Loss: 0.9671\n",
            "Time elapsed: 0.19 min\n",
            "Epoch: 002/050 | Batch 0000/0720 | Loss: 0.9225\n",
            "Epoch: 002/050 | Batch 0250/0720 | Loss: 0.9466\n",
            "Epoch: 002/050 | Batch 0500/0720 | Loss: 0.6990\n",
            "Time elapsed: 0.26 min\n",
            "Epoch: 003/050 | Batch 0000/0720 | Loss: 0.9026\n",
            "Epoch: 003/050 | Batch 0250/0720 | Loss: 0.9145\n",
            "Epoch: 003/050 | Batch 0500/0720 | Loss: 0.6937\n",
            "Time elapsed: 0.34 min\n",
            "Epoch: 004/050 | Batch 0000/0720 | Loss: 0.8845\n",
            "Epoch: 004/050 | Batch 0250/0720 | Loss: 0.8651\n",
            "Epoch: 004/050 | Batch 0500/0720 | Loss: 0.6782\n",
            "Time elapsed: 0.42 min\n",
            "Epoch: 005/050 | Batch 0000/0720 | Loss: 0.8590\n",
            "Epoch: 005/050 | Batch 0250/0720 | Loss: 0.8083\n",
            "Epoch: 005/050 | Batch 0500/0720 | Loss: 0.6542\n",
            "Time elapsed: 0.50 min\n",
            "Epoch: 006/050 | Batch 0000/0720 | Loss: 0.8373\n",
            "Epoch: 006/050 | Batch 0250/0720 | Loss: 0.7571\n",
            "Epoch: 006/050 | Batch 0500/0720 | Loss: 0.6167\n",
            "Time elapsed: 0.58 min\n",
            "Epoch: 007/050 | Batch 0000/0720 | Loss: 0.8220\n",
            "Epoch: 007/050 | Batch 0250/0720 | Loss: 0.7218\n",
            "Epoch: 007/050 | Batch 0500/0720 | Loss: 0.5904\n",
            "Time elapsed: 0.66 min\n",
            "Epoch: 008/050 | Batch 0000/0720 | Loss: 0.8044\n",
            "Epoch: 008/050 | Batch 0250/0720 | Loss: 0.7091\n",
            "Epoch: 008/050 | Batch 0500/0720 | Loss: 0.5765\n",
            "Time elapsed: 0.74 min\n",
            "Epoch: 009/050 | Batch 0000/0720 | Loss: 0.7912\n",
            "Epoch: 009/050 | Batch 0250/0720 | Loss: 0.6982\n",
            "Epoch: 009/050 | Batch 0500/0720 | Loss: 0.5719\n",
            "Time elapsed: 0.82 min\n",
            "Epoch: 010/050 | Batch 0000/0720 | Loss: 0.7772\n",
            "Epoch: 010/050 | Batch 0250/0720 | Loss: 0.7065\n",
            "Epoch: 010/050 | Batch 0500/0720 | Loss: 0.5589\n",
            "Time elapsed: 0.90 min\n",
            "Epoch: 011/050 | Batch 0000/0720 | Loss: 0.7498\n",
            "Epoch: 011/050 | Batch 0250/0720 | Loss: 0.6721\n",
            "Epoch: 011/050 | Batch 0500/0720 | Loss: 0.5628\n",
            "Time elapsed: 0.98 min\n",
            "Epoch: 012/050 | Batch 0000/0720 | Loss: 0.7363\n",
            "Epoch: 012/050 | Batch 0250/0720 | Loss: 0.6671\n",
            "Epoch: 012/050 | Batch 0500/0720 | Loss: 0.5515\n",
            "Time elapsed: 1.05 min\n",
            "Epoch: 013/050 | Batch 0000/0720 | Loss: 0.7289\n",
            "Epoch: 013/050 | Batch 0250/0720 | Loss: 0.6536\n",
            "Epoch: 013/050 | Batch 0500/0720 | Loss: 0.5467\n",
            "Time elapsed: 1.13 min\n",
            "Epoch: 014/050 | Batch 0000/0720 | Loss: 0.7126\n",
            "Epoch: 014/050 | Batch 0250/0720 | Loss: 0.6480\n",
            "Epoch: 014/050 | Batch 0500/0720 | Loss: 0.5349\n",
            "Time elapsed: 1.21 min\n",
            "Epoch: 015/050 | Batch 0000/0720 | Loss: 0.7091\n",
            "Epoch: 015/050 | Batch 0250/0720 | Loss: 0.6428\n",
            "Epoch: 015/050 | Batch 0500/0720 | Loss: 0.5337\n",
            "Time elapsed: 1.29 min\n",
            "Epoch: 016/050 | Batch 0000/0720 | Loss: 0.6978\n",
            "Epoch: 016/050 | Batch 0250/0720 | Loss: 0.6359\n",
            "Epoch: 016/050 | Batch 0500/0720 | Loss: 0.5330\n",
            "Time elapsed: 1.37 min\n",
            "Epoch: 017/050 | Batch 0000/0720 | Loss: 0.6969\n",
            "Epoch: 017/050 | Batch 0250/0720 | Loss: 0.6304\n",
            "Epoch: 017/050 | Batch 0500/0720 | Loss: 0.5267\n",
            "Time elapsed: 1.45 min\n",
            "Epoch: 018/050 | Batch 0000/0720 | Loss: 0.6945\n",
            "Epoch: 018/050 | Batch 0250/0720 | Loss: 0.6233\n",
            "Epoch: 018/050 | Batch 0500/0720 | Loss: 0.5285\n",
            "Time elapsed: 1.52 min\n",
            "Epoch: 019/050 | Batch 0000/0720 | Loss: 0.6861\n",
            "Epoch: 019/050 | Batch 0250/0720 | Loss: 0.6218\n",
            "Epoch: 019/050 | Batch 0500/0720 | Loss: 0.5266\n",
            "Time elapsed: 1.60 min\n",
            "Epoch: 020/050 | Batch 0000/0720 | Loss: 0.6759\n",
            "Epoch: 020/050 | Batch 0250/0720 | Loss: 0.6214\n",
            "Epoch: 020/050 | Batch 0500/0720 | Loss: 0.5351\n",
            "Time elapsed: 1.68 min\n",
            "Epoch: 021/050 | Batch 0000/0720 | Loss: 0.6729\n",
            "Epoch: 021/050 | Batch 0250/0720 | Loss: 0.6137\n",
            "Epoch: 021/050 | Batch 0500/0720 | Loss: 0.5249\n",
            "Time elapsed: 1.76 min\n",
            "Epoch: 022/050 | Batch 0000/0720 | Loss: 0.6668\n",
            "Epoch: 022/050 | Batch 0250/0720 | Loss: 0.6126\n",
            "Epoch: 022/050 | Batch 0500/0720 | Loss: 0.5193\n",
            "Time elapsed: 1.84 min\n",
            "Epoch: 023/050 | Batch 0000/0720 | Loss: 0.6537\n",
            "Epoch: 023/050 | Batch 0250/0720 | Loss: 0.6060\n",
            "Epoch: 023/050 | Batch 0500/0720 | Loss: 0.5175\n",
            "Time elapsed: 1.91 min\n",
            "Epoch: 024/050 | Batch 0000/0720 | Loss: 0.6477\n",
            "Epoch: 024/050 | Batch 0250/0720 | Loss: 0.5976\n",
            "Epoch: 024/050 | Batch 0500/0720 | Loss: 0.5164\n",
            "Time elapsed: 1.99 min\n",
            "Epoch: 025/050 | Batch 0000/0720 | Loss: 0.6436\n",
            "Epoch: 025/050 | Batch 0250/0720 | Loss: 0.5981\n",
            "Epoch: 025/050 | Batch 0500/0720 | Loss: 0.5131\n",
            "Time elapsed: 2.07 min\n",
            "Epoch: 026/050 | Batch 0000/0720 | Loss: 0.6388\n",
            "Epoch: 026/050 | Batch 0250/0720 | Loss: 0.5959\n",
            "Epoch: 026/050 | Batch 0500/0720 | Loss: 0.5128\n",
            "Time elapsed: 2.15 min\n",
            "Epoch: 027/050 | Batch 0000/0720 | Loss: 0.6369\n",
            "Epoch: 027/050 | Batch 0250/0720 | Loss: 0.5934\n",
            "Epoch: 027/050 | Batch 0500/0720 | Loss: 0.5136\n",
            "Time elapsed: 2.22 min\n",
            "Epoch: 028/050 | Batch 0000/0720 | Loss: 0.6331\n",
            "Epoch: 028/050 | Batch 0250/0720 | Loss: 0.5893\n",
            "Epoch: 028/050 | Batch 0500/0720 | Loss: 0.5121\n",
            "Time elapsed: 2.30 min\n",
            "Epoch: 029/050 | Batch 0000/0720 | Loss: 0.6287\n",
            "Epoch: 029/050 | Batch 0250/0720 | Loss: 0.5891\n",
            "Epoch: 029/050 | Batch 0500/0720 | Loss: 0.5124\n",
            "Time elapsed: 2.38 min\n",
            "Epoch: 030/050 | Batch 0000/0720 | Loss: 0.6226\n",
            "Epoch: 030/050 | Batch 0250/0720 | Loss: 0.5831\n",
            "Epoch: 030/050 | Batch 0500/0720 | Loss: 0.5099\n",
            "Time elapsed: 2.46 min\n",
            "Epoch: 031/050 | Batch 0000/0720 | Loss: 0.6200\n",
            "Epoch: 031/050 | Batch 0250/0720 | Loss: 0.5810\n",
            "Epoch: 031/050 | Batch 0500/0720 | Loss: 0.5080\n",
            "Time elapsed: 2.54 min\n",
            "Epoch: 032/050 | Batch 0000/0720 | Loss: 0.6189\n",
            "Epoch: 032/050 | Batch 0250/0720 | Loss: 0.5823\n",
            "Epoch: 032/050 | Batch 0500/0720 | Loss: 0.5088\n",
            "Time elapsed: 2.61 min\n",
            "Epoch: 033/050 | Batch 0000/0720 | Loss: 0.6152\n",
            "Epoch: 033/050 | Batch 0250/0720 | Loss: 0.5777\n",
            "Epoch: 033/050 | Batch 0500/0720 | Loss: 0.5063\n",
            "Time elapsed: 2.69 min\n",
            "Epoch: 034/050 | Batch 0000/0720 | Loss: 0.6138\n",
            "Epoch: 034/050 | Batch 0250/0720 | Loss: 0.5745\n",
            "Epoch: 034/050 | Batch 0500/0720 | Loss: 0.5080\n",
            "Time elapsed: 2.77 min\n",
            "Epoch: 035/050 | Batch 0000/0720 | Loss: 0.6081\n",
            "Epoch: 035/050 | Batch 0250/0720 | Loss: 0.5735\n",
            "Epoch: 035/050 | Batch 0500/0720 | Loss: 0.5076\n",
            "Time elapsed: 2.85 min\n",
            "Epoch: 036/050 | Batch 0000/0720 | Loss: 0.6078\n",
            "Epoch: 036/050 | Batch 0250/0720 | Loss: 0.5738\n",
            "Epoch: 036/050 | Batch 0500/0720 | Loss: 0.5040\n",
            "Time elapsed: 2.93 min\n",
            "Epoch: 037/050 | Batch 0000/0720 | Loss: 0.5995\n",
            "Epoch: 037/050 | Batch 0250/0720 | Loss: 0.5740\n",
            "Epoch: 037/050 | Batch 0500/0720 | Loss: 0.5052\n",
            "Time elapsed: 3.01 min\n",
            "Epoch: 038/050 | Batch 0000/0720 | Loss: 0.5979\n",
            "Epoch: 038/050 | Batch 0250/0720 | Loss: 0.5686\n",
            "Epoch: 038/050 | Batch 0500/0720 | Loss: 0.5045\n",
            "Time elapsed: 3.08 min\n",
            "Epoch: 039/050 | Batch 0000/0720 | Loss: 0.5968\n",
            "Epoch: 039/050 | Batch 0250/0720 | Loss: 0.5662\n",
            "Epoch: 039/050 | Batch 0500/0720 | Loss: 0.5040\n",
            "Time elapsed: 3.16 min\n",
            "Epoch: 040/050 | Batch 0000/0720 | Loss: 0.5921\n",
            "Epoch: 040/050 | Batch 0250/0720 | Loss: 0.5611\n",
            "Epoch: 040/050 | Batch 0500/0720 | Loss: 0.5045\n",
            "Time elapsed: 3.24 min\n",
            "Epoch: 041/050 | Batch 0000/0720 | Loss: 0.5879\n",
            "Epoch: 041/050 | Batch 0250/0720 | Loss: 0.5586\n",
            "Epoch: 041/050 | Batch 0500/0720 | Loss: 0.5042\n",
            "Time elapsed: 3.32 min\n",
            "Epoch: 042/050 | Batch 0000/0720 | Loss: 0.5841\n",
            "Epoch: 042/050 | Batch 0250/0720 | Loss: 0.5569\n",
            "Epoch: 042/050 | Batch 0500/0720 | Loss: 0.5031\n",
            "Time elapsed: 3.40 min\n",
            "Epoch: 043/050 | Batch 0000/0720 | Loss: 0.5826\n",
            "Epoch: 043/050 | Batch 0250/0720 | Loss: 0.5585\n",
            "Epoch: 043/050 | Batch 0500/0720 | Loss: 0.5009\n",
            "Time elapsed: 3.47 min\n",
            "Epoch: 044/050 | Batch 0000/0720 | Loss: 0.5798\n",
            "Epoch: 044/050 | Batch 0250/0720 | Loss: 0.5557\n",
            "Epoch: 044/050 | Batch 0500/0720 | Loss: 0.5034\n",
            "Time elapsed: 3.55 min\n",
            "Epoch: 045/050 | Batch 0000/0720 | Loss: 0.5788\n",
            "Epoch: 045/050 | Batch 0250/0720 | Loss: 0.5550\n",
            "Epoch: 045/050 | Batch 0500/0720 | Loss: 0.4993\n",
            "Time elapsed: 3.63 min\n",
            "Epoch: 046/050 | Batch 0000/0720 | Loss: 0.5732\n",
            "Epoch: 046/050 | Batch 0250/0720 | Loss: 0.5514\n",
            "Epoch: 046/050 | Batch 0500/0720 | Loss: 0.4994\n",
            "Time elapsed: 3.71 min\n",
            "Epoch: 047/050 | Batch 0000/0720 | Loss: 0.5684\n",
            "Epoch: 047/050 | Batch 0250/0720 | Loss: 0.5505\n",
            "Epoch: 047/050 | Batch 0500/0720 | Loss: 0.4993\n",
            "Time elapsed: 3.79 min\n",
            "Epoch: 048/050 | Batch 0000/0720 | Loss: 0.5664\n",
            "Epoch: 048/050 | Batch 0250/0720 | Loss: 0.5493\n",
            "Epoch: 048/050 | Batch 0500/0720 | Loss: 0.4980\n",
            "Time elapsed: 3.87 min\n",
            "Epoch: 049/050 | Batch 0000/0720 | Loss: 0.5653\n",
            "Epoch: 049/050 | Batch 0250/0720 | Loss: 0.5466\n",
            "Epoch: 049/050 | Batch 0500/0720 | Loss: 0.4982\n",
            "Time elapsed: 3.94 min\n",
            "Epoch: 050/050 | Batch 0000/0720 | Loss: 0.5665\n",
            "Epoch: 050/050 | Batch 0250/0720 | Loss: 0.5480\n",
            "Epoch: 050/050 | Batch 0500/0720 | Loss: 0.4969\n",
            "Time elapsed: 4.02 min\n",
            "Total Training Time: 4.02 min\n"
          ]
        }
      ]
    },
    {
      "cell_type": "code",
      "source": [
        "def plot_training_loss(minibatch_losses, num_epochs, averaging_iterations=100, custom_label=''):\n",
        "\n",
        "    iter_per_epoch = len(minibatch_losses) // num_epochs\n",
        "\n",
        "    plt.figure()\n",
        "    ax1 = plt.subplot(1, 1, 1)\n",
        "    ax1.plot(range(len(minibatch_losses)),\n",
        "             (minibatch_losses), label=f'Minibatch Loss{custom_label}')\n",
        "    ax1.set_xlabel('Iterations')\n",
        "    ax1.set_ylabel('Loss')\n",
        "\n",
        "    if len(minibatch_losses) < 1000:\n",
        "        num_losses = len(minibatch_losses) // 2\n",
        "    else:\n",
        "        num_losses = 1000\n",
        "\n",
        "    ax1.set_ylim([\n",
        "        0, np.max(minibatch_losses[num_losses:])*1.5\n",
        "        ])\n",
        "\n",
        "    ax1.plot(np.convolve(minibatch_losses,\n",
        "                         np.ones(averaging_iterations,)/averaging_iterations,\n",
        "                         mode='valid'),\n",
        "             label=f'Running Average{custom_label}')\n",
        "    ax1.legend()\n",
        "\n",
        "    ###################\n",
        "    # Set scond x-axis\n",
        "    ax2 = ax1.twiny()\n",
        "    newlabel = list(range(num_epochs+1))\n",
        "\n",
        "    newpos = [e*iter_per_epoch for e in newlabel]\n",
        "\n",
        "    ax2.set_xticks(newpos[::10])\n",
        "    ax2.set_xticklabels(newlabel[::10])\n",
        "\n",
        "    ax2.xaxis.set_ticks_position('bottom')\n",
        "    ax2.xaxis.set_label_position('bottom')\n",
        "    ax2.spines['bottom'].set_position(('outward', 45))\n",
        "    ax2.set_xlabel('Epochs')\n",
        "    ax2.set_xlim(ax1.get_xlim())\n",
        "    ###################\n",
        "\n",
        "    plt.tight_layout()"
      ],
      "metadata": {
        "id": "hSfITHql-nTm"
      },
      "execution_count": null,
      "outputs": []
    },
    {
      "cell_type": "code",
      "source": [
        "plot_training_loss(log_dict['train_loss_per_batch'], NUM_EPOCHS)\n",
        "plt.show()"
      ],
      "metadata": {
        "colab": {
          "base_uri": "https://localhost:8080/",
          "height": 297
        },
        "id": "atXTgjrA-8vI",
        "outputId": "f7838e88-213d-46b8-c135-d5881ce9c2ad"
      },
      "execution_count": null,
      "outputs": [
        {
          "output_type": "display_data",
          "data": {
            "text/plain": [
              "<Figure size 432x288 with 2 Axes>"
            ],
            "image/png": "[encoded data removed]"
          },
          "metadata": {
            "needs_background": "light"
          }
        }
      ]
    },
    {
      "cell_type": "code",
      "source": [
        "device = DEVICE\n",
        "test_data = torch.zeros((180,128,128))/100\n",
        "test_loader = torch.utils.data.DataLoader(test_data, batch_size=batch_size, num_workers=num_workers)\n",
        "model.eval()\n",
        "embedding = torch.zeros((180,64,2))\n",
        "with torch.no_grad():\n",
        "  for idx, features in enumerate(train_loader):\n",
        "\n",
        "   features = features[None,:,:,:]\n",
        "\n",
        "   features = features.to(device)\n",
        "   #print(features.shape)\n",
        "            \n",
        "   embedding[idx] = model.encoder(features)\n",
        "\n",
        "embedding_test = torch.zeros((180,64,8))\n",
        "\n",
        "with torch.no_grad():\n",
        "  for idx, features in enumerate(test_loader):\n",
        "\n",
        "   features = features[None,:,:,:]\n",
        "\n",
        "   features = features.to(device)\n",
        "   #print(features.shape)\n",
        "            \n",
        "   embedding_test[idx] = model.encoder(features)\n",
        "\n",
        "embedding.shape\n",
        "\n",
        "embed_temp1 = torch.Tensor.cpu(embedding)\n",
        "\n",
        "embed_temp2 = torch.Tensor.cpu(embedding_test)\n",
        "#for idx in range(10):\n",
        "  #plt.imshow(embed_temp[idx,:,:].detach().numpy())\n",
        "#bar = plt.colorbar()\n",
        "  #plt.show()\n",
        "#print(train_loader)\n",
        "#print(train_loader.dataset.shape)\n",
        "print(torch.sum(embedding))\n",
        "print(torch.sum(embedding_test))\n",
        "\n",
        "plt.imshow(embed_temp1[0,:,:].detach().numpy())\n",
        "plt.show()\n",
        "plt.imshow(embed_temp2[0,:,:].detach().numpy())\n",
        "plt.show()"
      ],
      "metadata": {
        "colab": {
          "base_uri": "https://localhost:8080/",
          "height": 271
        },
        "id": "VFIzguFKBcBl",
        "outputId": "b15eb8a7-494f-45dd-d714-c9bb6629d807"
      },
      "execution_count": null,
      "outputs": [
        {
          "output_type": "error",
          "ename": "RuntimeError",
          "evalue": "ignored",
          "traceback": [
            "\u001b[0;31m---------------------------------------------------------------------------\u001b[0m",
            "\u001b[0;31mRuntimeError\u001b[0m                              Traceback (most recent call last)",
            "\u001b[0;32m<ipython-input-25-a08baba209ed>\u001b[0m in \u001b[0;36m<module>\u001b[0;34m\u001b[0m\n\u001b[1;32m     12\u001b[0m    \u001b[0;31m#print(features.shape)\u001b[0m\u001b[0;34m\u001b[0m\u001b[0;34m\u001b[0m\u001b[0;34m\u001b[0m\u001b[0m\n\u001b[1;32m     13\u001b[0m \u001b[0;34m\u001b[0m\u001b[0m\n\u001b[0;32m---> 14\u001b[0;31m    \u001b[0membedding\u001b[0m\u001b[0;34m[\u001b[0m\u001b[0midx\u001b[0m\u001b[0;34m]\u001b[0m \u001b[0;34m=\u001b[0m \u001b[0mmodel\u001b[0m\u001b[0;34m.\u001b[0m\u001b[0mencoder\u001b[0m\u001b[0;34m(\u001b[0m\u001b[0mfeatures\u001b[0m\u001b[0;34m)\u001b[0m\u001b[0;34m\u001b[0m\u001b[0;34m\u001b[0m\u001b[0m\n\u001b[0m\u001b[1;32m     15\u001b[0m \u001b[0;34m\u001b[0m\u001b[0m\n\u001b[1;32m     16\u001b[0m \u001b[0membedding_test\u001b[0m \u001b[0;34m=\u001b[0m \u001b[0mtorch\u001b[0m\u001b[0;34m.\u001b[0m\u001b[0mzeros\u001b[0m\u001b[0;34m(\u001b[0m\u001b[0;34m(\u001b[0m\u001b[0;36m180\u001b[0m\u001b[0;34m,\u001b[0m\u001b[0;36m64\u001b[0m\u001b[0;34m,\u001b[0m\u001b[0;36m8\u001b[0m\u001b[0;34m)\u001b[0m\u001b[0;34m)\u001b[0m\u001b[0;34m\u001b[0m\u001b[0;34m\u001b[0m\u001b[0m\n",
            "\u001b[0;31mRuntimeError\u001b[0m: The expanded size of the tensor (2) must match the existing size (64) at non-singleton dimension 1.  Target sizes: [64, 2].  Tensor sizes: [64]"
          ]
        }
      ]
    },
    {
      "cell_type": "code",
      "source": [
        "device = DEVICE\n",
        "embedding = torch.zeros((720,64))\n",
        "with torch.no_grad():\n",
        "  for idx, features in enumerate(train_loader):\n",
        "\n",
        "   features = features[None,:,:,:]\n",
        "   #print(idx)\n",
        "\n",
        "   features\n",
        "\n",
        "   features = features.to(device)\n",
        "   embedding[idx] = model.encoder(features)\n",
        "\n",
        "\n",
        "print(embedding.shape)\n",
        "\n",
        "#embed_temp1 = torch.Tensor.cpu(embedding)\n",
        "#print(embed_temp1)"
      ],
      "metadata": {
        "colab": {
          "base_uri": "https://localhost:8080/"
        },
        "id": "jySD_Np87Ukz",
        "outputId": "c7a6c042-430c-4fa8-c0e3-3dd772a49509"
      },
      "execution_count": null,
      "outputs": [
        {
          "output_type": "stream",
          "name": "stdout",
          "text": [
            "torch.Size([720, 64])\n"
          ]
        }
      ]
    },
    {
      "cell_type": "code",
      "source": [
        "with torch.no_grad():\n",
        "    new_image = model.decoder(10*torch.randn(1,64).to(DEVICE))\n",
        "    #new_image = model.decoder(embedding[0,:].to(DEVICE))\n",
        "    new_image.squeeze_(0)\n",
        "    new_image.squeeze_(0)\n",
        "plt.imshow(new_image.to('cpu').numpy())\n",
        "bar = plt.colorbar()\n",
        "plt.show()\n",
        "\n",
        "word_no = 6\n",
        "with torch.no_grad():\n",
        "    #new_image = model.decoder(torch.randn(1,64).to(DEVICE))\n",
        "    new_image = model.decoder(embedding[word_no,:].to(DEVICE))\n",
        "    new_image.squeeze_(0)\n",
        "    new_image.squeeze_(0)\n",
        "plt.imshow(new_image.to('cpu').numpy())\n",
        "bar = plt.colorbar()\n",
        "plt.show()\n",
        "from scipy import stats\n",
        "test_data = stats.zscore(data, axis=2, ddof=1)\n",
        "test_data = test_data - test_data.min()\n",
        "test_data = test_data/test_data.max()\n",
        "#test_data = data/data.max()\n",
        "plt.imshow(test_data[word_no,:,:])\n",
        "bar = plt.colorbar()\n",
        "plt.show()"
      ],
      "metadata": {
        "colab": {
          "base_uri": "https://localhost:8080/",
          "height": 771
        },
        "id": "mwnmBviwlBTZ",
        "outputId": "4cb83981-675b-4f1c-9996-249a74dc31ec"
      },
      "execution_count": null,
      "outputs": [
        {
          "output_type": "display_data",
          "data": {
            "text/plain": [
              "<Figure size 432x288 with 2 Axes>"
            ],
            "image/png": "[encoded data removed]"
          },
          "metadata": {
            "needs_background": "light"
          }
        },
        {
          "output_type": "display_data",
          "data": {
            "text/plain": [
              "<Figure size 432x288 with 2 Axes>"
            ],
            "image/png": "[encoded data removed]"
          },
          "metadata": {
            "needs_background": "light"
          }
        },
        {
          "output_type": "display_data",
          "data": {
            "text/plain": [
              "<Figure size 432x288 with 2 Axes>"
            ],
            "image/png": "[encoded data removed]"
          },
          "metadata": {
            "needs_background": "light"
          }
        }
      ]
    },
    {
      "cell_type": "code",
      "source": [
        "### GMM\n",
        "\n",
        "embed_temp = torch.Tensor.cpu(embedding)\n",
        "\n",
        "from sklearn.mixture import GaussianMixture\n",
        "# Suppose Data X is a 2-D Numpy array (One apple has two features, size and flavor)\n",
        "GMM = GaussianMixture(n_components=2, random_state=0).fit(embed_temp)\n",
        "print(GMM)\n",
        "\n",
        "active_epoch = GMM.predict(embed_temp)\n",
        "#print(np.sum(active_epoch))\n",
        "#print(np.sum(train_data[np.argwhere(active_epoch>0),:,:]))\n",
        "\n",
        "#print(torch.mean(data[np.argwhere(active_epoch==3),:,:]))\n",
        "#print(data[np.argwhere(active_epoch==3),:,:].shape[0])\n",
        "\n",
        "#print(torch.mean(data[np.argwhere(active_epoch==2),:,:]))\n",
        "#print(data[np.argwhere(active_epoch==2),:,:].shape[0])\n",
        "\n",
        "print(torch.mean(data[np.argwhere(active_epoch==1),:6,:]))\n",
        "print(data[np.argwhere(active_epoch==1),:,:].shape[0])\n",
        "\n",
        "print(torch.mean(data[np.argwhere(active_epoch==0),:6,:]))\n",
        "print(data[np.argwhere(active_epoch==0),:,:].shape[0])\n",
        "\n",
        "#print(active_epoch[3])"
      ],
      "metadata": {
        "colab": {
          "base_uri": "https://localhost:8080/"
        },
        "id": "OGdf1hzSL-9g",
        "outputId": "2854a15e-2f33-4f68-dc55-e58cec6e5ab7"
      },
      "execution_count": null,
      "outputs": [
        {
          "output_type": "stream",
          "name": "stdout",
          "text": [
            "GaussianMixture(n_components=2, random_state=0)\n",
            "tensor(2177.4690)\n",
            "273\n",
            "tensor(1950.3381)\n",
            "447\n"
          ]
        }
      ]
    },
    {
      "cell_type": "code",
      "source": [
        "import seaborn as sns\n",
        "import pandas as pd\n",
        "group1_mean = torch.mean(data[np.argwhere(active_epoch==1),:7,:],axis=2)\n",
        "print(group1_mean.shape)\n",
        "group1 = torch.flatten(group1_mean)\n",
        "\n",
        "\n",
        "#group1 = torch.flatten(data[np.argwhere(active_epoch==1),:7,:])\n",
        "print(group1.shape)\n",
        "threshold = 500\n",
        "#group1 = group1[np.where(group1 < threshold)]\n",
        "\n",
        "group2_mean = torch.mean(data[np.argwhere(active_epoch==0),:7,:],axis=2)\n",
        "\n",
        "group2 = torch.flatten(group2_mean)\n",
        "\n",
        "#group2 = torch.flatten(data[np.argwhere(active_epoch==0),:7,:])\n",
        "print(group2.shape)\n",
        "#group2 = group2[np.where(group2 < threshold)]\n",
        "\n",
        "print(torch.flatten(data[np.argwhere(active_epoch==1),:7,:]).shape)\n",
        "print(torch.flatten(data[np.argwhere(active_epoch==0),:7,:]).shape)\n",
        "\n"
      ],
      "metadata": {
        "colab": {
          "base_uri": "https://localhost:8080/"
        },
        "id": "5A17FdjGAe1O",
        "outputId": "26641a59-034c-48ba-d582-a5e6ea9370c5"
      },
      "execution_count": null,
      "outputs": [
        {
          "output_type": "stream",
          "name": "stdout",
          "text": [
            "torch.Size([273, 1, 70])\n",
            "torch.Size([19110])\n",
            "torch.Size([31290])\n",
            "torch.Size([133770])\n",
            "torch.Size([219030])\n"
          ]
        }
      ]
    },
    {
      "cell_type": "code",
      "source": [
        "groups =  ['Active']*19110 + ['Inactive']*31290\n",
        "\n",
        "\n",
        "data_col = np.hstack((group1,group2))\n",
        "\n",
        "df = pd.DataFrame({'Wavelet Power':data_col,'Group':groups})\n",
        "\n",
        "fig, ax = plt.subplots()\n",
        "\n",
        "ax = sns.violinplot(x=\"Group\", y=\"Wavelet Power\", data=df, ax=ax)\n",
        "df.boxplot('Wavelet Power',by = 'Group',showfliers=False)"
      ],
      "metadata": {
        "colab": {
          "base_uri": "https://localhost:8080/",
          "height": 646
        },
        "id": "blw64yA303Cm",
        "outputId": "97c99113-9db6-4157-bc08-a7683d14cab1"
      },
      "execution_count": null,
      "outputs": [
        {
          "output_type": "stream",
          "name": "stderr",
          "text": [
            "/usr/local/lib/python3.7/dist-packages/matplotlib/cbook/__init__.py:1376: VisibleDeprecationWarning: Creating an ndarray from ragged nested sequences (which is a list-or-tuple of lists-or-tuples-or ndarrays with different lengths or shapes) is deprecated. If you meant to do this, you must specify 'dtype=object' when creating the ndarray.\n",
            "  X = np.atleast_1d(X.T if isinstance(X, np.ndarray) else np.asarray(X))\n"
          ]
        },
        {
          "output_type": "execute_result",
          "data": {
            "text/plain": [
              "<matplotlib.axes._subplots.AxesSubplot at 0x7fe9701f4110>"
            ]
          },
          "metadata": {},
          "execution_count": 34
        },
        {
          "output_type": "display_data",
          "data": {
            "text/plain": [
              "<Figure size 432x288 with 1 Axes>"
            ],
            "image/png": "[encoded data removed]"
          },
          "metadata": {
            "needs_background": "light"
          }
        },
        {
          "output_type": "display_data",
          "data": {
            "text/plain": [
              "<Figure size 432x288 with 1 Axes>"
            ],
            "image/png": "[encoded data removed]"
          },
          "metadata": {
            "needs_background": "light"
          }
        }
      ]
    },
    {
      "cell_type": "code",
      "source": [
        "active_epoch[6]"
      ],
      "metadata": {
        "colab": {
          "base_uri": "https://localhost:8080/"
        },
        "id": "-oviCB9CPGV6",
        "outputId": "94efd213-398f-46ae-cc09-c3bff458d9ff"
      },
      "execution_count": null,
      "outputs": [
        {
          "output_type": "execute_result",
          "data": {
            "text/plain": [
              "1"
            ]
          },
          "metadata": {},
          "execution_count": 31
        }
      ]
    },
    {
      "cell_type": "code",
      "source": [
        "print(np.sum(train_data)"
      ],
      "metadata": {
        "id": "6_-d67c4NT8P"
      },
      "execution_count": null,
      "outputs": []
    },
    {
      "cell_type": "code",
      "source": [
        "import torch\n",
        "from torchvision import datasets\n",
        "from torchvision import transforms\n",
        "from torch.utils.data import DataLoader\n",
        "from torch.utils.data import SubsetRandomSampler\n",
        "from torch.utils.data import sampler\n",
        "\n",
        "def get_dataloaders_mnist(batch_size, num_workers=0,\n",
        "                          validation_fraction=None,\n",
        "                          train_transforms=None, test_transforms=None):\n",
        "\n",
        "    if train_transforms is None:\n",
        "        train_transforms = transforms.ToTensor()\n",
        "\n",
        "    if test_transforms is None:\n",
        "        test_transforms = transforms.ToTensor()\n",
        "\n",
        "    train_dataset = datasets.MNIST(root='data',\n",
        "                                   train=True,\n",
        "                                   transform=train_transforms,\n",
        "                                   download=True)\n",
        "\n",
        "    valid_dataset = datasets.MNIST(root='data',\n",
        "                                   train=True,\n",
        "                                   transform=test_transforms)\n",
        "\n",
        "    test_dataset = datasets.MNIST(root='data',\n",
        "                                  train=False,\n",
        "                                  transform=test_transforms)\n",
        "\n",
        "    if validation_fraction is not None:\n",
        "        num = int(validation_fraction * 60000)\n",
        "        train_indices = torch.arange(0, 60000 - num)\n",
        "        valid_indices = torch.arange(60000 - num, 60000)\n",
        "\n",
        "        train_sampler = SubsetRandomSampler(train_indices)\n",
        "        valid_sampler = SubsetRandomSampler(valid_indices)\n",
        "\n",
        "        valid_loader = DataLoader(dataset=valid_dataset,\n",
        "                                  batch_size=batch_size,\n",
        "                                  num_workers=num_workers,\n",
        "                                  sampler=valid_sampler)\n",
        "\n",
        "        train_loader = DataLoader(dataset=train_dataset,\n",
        "                                  batch_size=batch_size,\n",
        "                                  num_workers=num_workers,\n",
        "                                  drop_last=True,\n",
        "                                  sampler=train_sampler)\n",
        "    else:\n",
        "        train_loader = DataLoader(dataset=train_dataset,\n",
        "                                  batch_size=batch_size,\n",
        "                                  num_workers=num_workers,\n",
        "                                  shuffle=True)\n",
        "\n",
        "    test_loader = DataLoader(dataset=test_dataset,\n",
        "                             batch_size=batch_size,\n",
        "                             num_workers=num_workers,\n",
        "                             shuffle=False)\n",
        "\n",
        "    if validation_fraction is None:\n",
        "        return train_loader, test_loader\n",
        "    else:\n",
        "        return train_loader, valid_loader, test_loader"
      ],
      "metadata": {
        "id": "DnOIL7IQzrIj"
      },
      "execution_count": null,
      "outputs": []
    },
    {
      "cell_type": "code",
      "source": [
        "##########################\n",
        "### Dataset\n",
        "##########################\n",
        "\n",
        "train_loader, valid_loader, test_loader = get_dataloaders_mnist(\n",
        "    batch_size=BATCH_SIZE, \n",
        "    num_workers=2, \n",
        "    validation_fraction=0.)"
      ],
      "metadata": {
        "id": "S8TMtMvdzXlq"
      },
      "execution_count": null,
      "outputs": []
    },
    {
      "cell_type": "code",
      "source": [
        "print(train_loader.dataset)"
      ],
      "metadata": {
        "colab": {
          "base_uri": "https://localhost:8080/"
        },
        "id": "gYJnB1Ki0dzp",
        "outputId": "b3b627c8-6aa8-48a2-be8b-316d485edca3"
      },
      "execution_count": null,
      "outputs": [
        {
          "output_type": "stream",
          "name": "stdout",
          "text": [
            "Dataset MNIST\n",
            "    Number of datapoints: 60000\n",
            "    Root location: data\n",
            "    Split: Train\n",
            "    StandardTransform\n",
            "Transform: ToTensor()\n"
          ]
        }
      ]
    },
    {
      "cell_type": "code",
      "source": [
        "for batch_idx, (features, _) in enumerate(train_loader):\n",
        "\n",
        "            print(features.shape)"
      ],
      "metadata": {
        "colab": {
          "base_uri": "https://localhost:8080/",
          "height": 229
        },
        "id": "gTmPhS8u1XMc",
        "outputId": "a6e8eaf2-a3cb-43cf-e4cd-bdd64478d3b2"
      },
      "execution_count": null,
      "outputs": [
        {
          "output_type": "error",
          "ename": "ValueError",
          "evalue": "ignored",
          "traceback": [
            "\u001b[0;31m---------------------------------------------------------------------------\u001b[0m",
            "\u001b[0;31mValueError\u001b[0m                                Traceback (most recent call last)",
            "\u001b[0;32m<ipython-input-133-43a2720354be>\u001b[0m in \u001b[0;36m<module>\u001b[0;34m()\u001b[0m\n\u001b[0;32m----> 1\u001b[0;31m \u001b[0;32mfor\u001b[0m \u001b[0mbatch_idx\u001b[0m\u001b[0;34m,\u001b[0m \u001b[0;34m(\u001b[0m\u001b[0mfeatures\u001b[0m\u001b[0;34m,\u001b[0m \u001b[0m_\u001b[0m\u001b[0;34m)\u001b[0m \u001b[0;32min\u001b[0m \u001b[0menumerate\u001b[0m\u001b[0;34m(\u001b[0m\u001b[0mtrain_loader\u001b[0m\u001b[0;34m)\u001b[0m\u001b[0;34m:\u001b[0m\u001b[0;34m\u001b[0m\u001b[0;34m\u001b[0m\u001b[0m\n\u001b[0m\u001b[1;32m      2\u001b[0m \u001b[0;34m\u001b[0m\u001b[0m\n\u001b[1;32m      3\u001b[0m             \u001b[0mprint\u001b[0m\u001b[0;34m(\u001b[0m\u001b[0mfeatures\u001b[0m\u001b[0;34m.\u001b[0m\u001b[0mshape\u001b[0m\u001b[0;34m)\u001b[0m\u001b[0;34m\u001b[0m\u001b[0;34m\u001b[0m\u001b[0m\n",
            "\u001b[0;31mValueError\u001b[0m: not enough values to unpack (expected 2, got 1)"
          ]
        }
      ]
    },
    {
      "cell_type": "code",
      "source": [
        "for batch_idx, features in enumerate(train_loader):\n",
        "\n",
        "            print(features.shape)"
      ],
      "metadata": {
        "colab": {
          "base_uri": "https://localhost:8080/"
        },
        "id": "8ayO0cqm3V53",
        "outputId": "2b94b717-590f-4da0-b800-abe24a960dca"
      },
      "execution_count": null,
      "outputs": [
        {
          "output_type": "stream",
          "name": "stdout",
          "text": [
            "torch.Size([1, 128, 108])\n",
            "torch.Size([1, 128, 108])\n",
            "torch.Size([1, 128, 108])\n",
            "torch.Size([1, 128, 108])\n",
            "torch.Size([1, 128, 108])\n",
            "torch.Size([1, 128, 108])\n",
            "torch.Size([1, 128, 108])\n",
            "torch.Size([1, 128, 108])\n",
            "torch.Size([1, 128, 108])\n",
            "torch.Size([1, 128, 108])\n",
            "torch.Size([1, 128, 108])\n",
            "torch.Size([1, 128, 108])\n",
            "torch.Size([1, 128, 108])\n",
            "torch.Size([1, 128, 108])\n",
            "torch.Size([1, 128, 108])\n",
            "torch.Size([1, 128, 108])\n",
            "torch.Size([1, 128, 108])\n",
            "torch.Size([1, 128, 108])\n",
            "torch.Size([1, 128, 108])\n",
            "torch.Size([1, 128, 108])\n",
            "torch.Size([1, 128, 108])\n",
            "torch.Size([1, 128, 108])\n",
            "torch.Size([1, 128, 108])\n",
            "torch.Size([1, 128, 108])\n",
            "torch.Size([1, 128, 108])\n",
            "torch.Size([1, 128, 108])\n",
            "torch.Size([1, 128, 108])\n",
            "torch.Size([1, 128, 108])\n",
            "torch.Size([1, 128, 108])\n",
            "torch.Size([1, 128, 108])\n",
            "torch.Size([1, 128, 108])\n",
            "torch.Size([1, 128, 108])\n",
            "torch.Size([1, 128, 108])\n",
            "torch.Size([1, 128, 108])\n",
            "torch.Size([1, 128, 108])\n",
            "torch.Size([1, 128, 108])\n",
            "torch.Size([1, 128, 108])\n",
            "torch.Size([1, 128, 108])\n",
            "torch.Size([1, 128, 108])\n",
            "torch.Size([1, 128, 108])\n",
            "torch.Size([1, 128, 108])\n",
            "torch.Size([1, 128, 108])\n",
            "torch.Size([1, 128, 108])\n",
            "torch.Size([1, 128, 108])\n",
            "torch.Size([1, 128, 108])\n",
            "torch.Size([1, 128, 108])\n",
            "torch.Size([1, 128, 108])\n",
            "torch.Size([1, 128, 108])\n",
            "torch.Size([1, 128, 108])\n",
            "torch.Size([1, 128, 108])\n",
            "torch.Size([1, 128, 108])\n",
            "torch.Size([1, 128, 108])\n",
            "torch.Size([1, 128, 108])\n",
            "torch.Size([1, 128, 108])\n",
            "torch.Size([1, 128, 108])\n",
            "torch.Size([1, 128, 108])\n",
            "torch.Size([1, 128, 108])\n",
            "torch.Size([1, 128, 108])\n",
            "torch.Size([1, 128, 108])\n",
            "torch.Size([1, 128, 108])\n",
            "torch.Size([1, 128, 108])\n",
            "torch.Size([1, 128, 108])\n",
            "torch.Size([1, 128, 108])\n",
            "torch.Size([1, 128, 108])\n",
            "torch.Size([1, 128, 108])\n",
            "torch.Size([1, 128, 108])\n",
            "torch.Size([1, 128, 108])\n",
            "torch.Size([1, 128, 108])\n",
            "torch.Size([1, 128, 108])\n",
            "torch.Size([1, 128, 108])\n",
            "torch.Size([1, 128, 108])\n",
            "torch.Size([1, 128, 108])\n",
            "torch.Size([1, 128, 108])\n",
            "torch.Size([1, 128, 108])\n",
            "torch.Size([1, 128, 108])\n",
            "torch.Size([1, 128, 108])\n",
            "torch.Size([1, 128, 108])\n",
            "torch.Size([1, 128, 108])\n",
            "torch.Size([1, 128, 108])\n",
            "torch.Size([1, 128, 108])\n",
            "torch.Size([1, 128, 108])\n",
            "torch.Size([1, 128, 108])\n",
            "torch.Size([1, 128, 108])\n",
            "torch.Size([1, 128, 108])\n",
            "torch.Size([1, 128, 108])\n",
            "torch.Size([1, 128, 108])\n",
            "torch.Size([1, 128, 108])\n",
            "torch.Size([1, 128, 108])\n",
            "torch.Size([1, 128, 108])\n",
            "torch.Size([1, 128, 108])\n",
            "torch.Size([1, 128, 108])\n",
            "torch.Size([1, 128, 108])\n",
            "torch.Size([1, 128, 108])\n",
            "torch.Size([1, 128, 108])\n",
            "torch.Size([1, 128, 108])\n",
            "torch.Size([1, 128, 108])\n",
            "torch.Size([1, 128, 108])\n",
            "torch.Size([1, 128, 108])\n",
            "torch.Size([1, 128, 108])\n",
            "torch.Size([1, 128, 108])\n",
            "torch.Size([1, 128, 108])\n",
            "torch.Size([1, 128, 108])\n",
            "torch.Size([1, 128, 108])\n",
            "torch.Size([1, 128, 108])\n",
            "torch.Size([1, 128, 108])\n",
            "torch.Size([1, 128, 108])\n",
            "torch.Size([1, 128, 108])\n",
            "torch.Size([1, 128, 108])\n",
            "torch.Size([1, 128, 108])\n",
            "torch.Size([1, 128, 108])\n",
            "torch.Size([1, 128, 108])\n",
            "torch.Size([1, 128, 108])\n",
            "torch.Size([1, 128, 108])\n",
            "torch.Size([1, 128, 108])\n",
            "torch.Size([1, 128, 108])\n",
            "torch.Size([1, 128, 108])\n",
            "torch.Size([1, 128, 108])\n",
            "torch.Size([1, 128, 108])\n",
            "torch.Size([1, 128, 108])\n",
            "torch.Size([1, 128, 108])\n",
            "torch.Size([1, 128, 108])\n",
            "torch.Size([1, 128, 108])\n",
            "torch.Size([1, 128, 108])\n",
            "torch.Size([1, 128, 108])\n",
            "torch.Size([1, 128, 108])\n",
            "torch.Size([1, 128, 108])\n",
            "torch.Size([1, 128, 108])\n",
            "torch.Size([1, 128, 108])\n",
            "torch.Size([1, 128, 108])\n",
            "torch.Size([1, 128, 108])\n",
            "torch.Size([1, 128, 108])\n",
            "torch.Size([1, 128, 108])\n",
            "torch.Size([1, 128, 108])\n",
            "torch.Size([1, 128, 108])\n",
            "torch.Size([1, 128, 108])\n",
            "torch.Size([1, 128, 108])\n",
            "torch.Size([1, 128, 108])\n",
            "torch.Size([1, 128, 108])\n",
            "torch.Size([1, 128, 108])\n",
            "torch.Size([1, 128, 108])\n",
            "torch.Size([1, 128, 108])\n",
            "torch.Size([1, 128, 108])\n",
            "torch.Size([1, 128, 108])\n",
            "torch.Size([1, 128, 108])\n",
            "torch.Size([1, 128, 108])\n",
            "torch.Size([1, 128, 108])\n",
            "torch.Size([1, 128, 108])\n",
            "torch.Size([1, 128, 108])\n",
            "torch.Size([1, 128, 108])\n",
            "torch.Size([1, 128, 108])\n",
            "torch.Size([1, 128, 108])\n",
            "torch.Size([1, 128, 108])\n",
            "torch.Size([1, 128, 108])\n",
            "torch.Size([1, 128, 108])\n",
            "torch.Size([1, 128, 108])\n",
            "torch.Size([1, 128, 108])\n",
            "torch.Size([1, 128, 108])\n",
            "torch.Size([1, 128, 108])\n",
            "torch.Size([1, 128, 108])\n",
            "torch.Size([1, 128, 108])\n",
            "torch.Size([1, 128, 108])\n",
            "torch.Size([1, 128, 108])\n",
            "torch.Size([1, 128, 108])\n",
            "torch.Size([1, 128, 108])\n",
            "torch.Size([1, 128, 108])\n",
            "torch.Size([1, 128, 108])\n",
            "torch.Size([1, 128, 108])\n",
            "torch.Size([1, 128, 108])\n",
            "torch.Size([1, 128, 108])\n",
            "torch.Size([1, 128, 108])\n",
            "torch.Size([1, 128, 108])\n",
            "torch.Size([1, 128, 108])\n",
            "torch.Size([1, 128, 108])\n",
            "torch.Size([1, 128, 108])\n",
            "torch.Size([1, 128, 108])\n",
            "torch.Size([1, 128, 108])\n",
            "torch.Size([1, 128, 108])\n",
            "torch.Size([1, 128, 108])\n",
            "torch.Size([1, 128, 108])\n",
            "torch.Size([1, 128, 108])\n",
            "torch.Size([1, 128, 108])\n",
            "torch.Size([1, 128, 108])\n",
            "torch.Size([1, 128, 108])\n",
            "torch.Size([1, 128, 108])\n",
            "torch.Size([1, 128, 108])\n",
            "torch.Size([1, 128, 108])\n",
            "torch.Size([1, 128, 108])\n",
            "torch.Size([1, 128, 108])\n",
            "torch.Size([1, 128, 108])\n",
            "torch.Size([1, 128, 108])\n",
            "torch.Size([1, 128, 108])\n",
            "torch.Size([1, 128, 108])\n",
            "torch.Size([1, 128, 108])\n",
            "torch.Size([1, 128, 108])\n",
            "torch.Size([1, 128, 108])\n",
            "torch.Size([1, 128, 108])\n",
            "torch.Size([1, 128, 108])\n",
            "torch.Size([1, 128, 108])\n",
            "torch.Size([1, 128, 108])\n",
            "torch.Size([1, 128, 108])\n"
          ]
        }
      ]
    },
    {
      "cell_type": "code",
      "source": [
        "!cat /proc/cpuinfo"
      ],
      "metadata": {
        "colab": {
          "base_uri": "https://localhost:8080/"
        },
        "id": "Uep53LELIUB-",
        "outputId": "7a4858d2-b98c-413c-fd27-d0dedd3b1652"
      },
      "execution_count": null,
      "outputs": [
        {
          "output_type": "stream",
          "name": "stdout",
          "text": [
            "processor\t: 0\n",
            "vendor_id\t: GenuineIntel\n",
            "cpu family\t: 6\n",
            "model\t\t: 63\n",
            "model name\t: Intel(R) Xeon(R) CPU @ 2.30GHz\n",
            "stepping\t: 0\n",
            "microcode\t: 0x1\n",
            "cpu MHz\t\t: 2299.998\n",
            "cache size\t: 46080 KB\n",
            "physical id\t: 0\n",
            "siblings\t: 2\n",
            "core id\t\t: 0\n",
            "cpu cores\t: 1\n",
            "apicid\t\t: 0\n",
            "initial apicid\t: 0\n",
            "fpu\t\t: yes\n",
            "fpu_exception\t: yes\n",
            "cpuid level\t: 13\n",
            "wp\t\t: yes\n",
            "flags\t\t: fpu vme de pse tsc msr pae mce cx8 apic sep mtrr pge mca cmov pat pse36 clflush mmx fxsr sse sse2 ss ht syscall nx pdpe1gb rdtscp lm constant_tsc rep_good nopl xtopology nonstop_tsc cpuid tsc_known_freq pni pclmulqdq ssse3 fma cx16 pcid sse4_1 sse4_2 x2apic movbe popcnt aes xsave avx f16c rdrand hypervisor lahf_lm abm invpcid_single ssbd ibrs ibpb stibp fsgsbase tsc_adjust bmi1 avx2 smep bmi2 erms invpcid xsaveopt arat md_clear arch_capabilities\n",
            "bugs\t\t: cpu_meltdown spectre_v1 spectre_v2 spec_store_bypass l1tf mds swapgs\n",
            "bogomips\t: 4599.99\n",
            "clflush size\t: 64\n",
            "cache_alignment\t: 64\n",
            "address sizes\t: 46 bits physical, 48 bits virtual\n",
            "power management:\n",
            "\n",
            "processor\t: 1\n",
            "vendor_id\t: GenuineIntel\n",
            "cpu family\t: 6\n",
            "model\t\t: 63\n",
            "model name\t: Intel(R) Xeon(R) CPU @ 2.30GHz\n",
            "stepping\t: 0\n",
            "microcode\t: 0x1\n",
            "cpu MHz\t\t: 2299.998\n",
            "cache size\t: 46080 KB\n",
            "physical id\t: 0\n",
            "siblings\t: 2\n",
            "core id\t\t: 0\n",
            "cpu cores\t: 1\n",
            "apicid\t\t: 1\n",
            "initial apicid\t: 1\n",
            "fpu\t\t: yes\n",
            "fpu_exception\t: yes\n",
            "cpuid level\t: 13\n",
            "wp\t\t: yes\n",
            "flags\t\t: fpu vme de pse tsc msr pae mce cx8 apic sep mtrr pge mca cmov pat pse36 clflush mmx fxsr sse sse2 ss ht syscall nx pdpe1gb rdtscp lm constant_tsc rep_good nopl xtopology nonstop_tsc cpuid tsc_known_freq pni pclmulqdq ssse3 fma cx16 pcid sse4_1 sse4_2 x2apic movbe popcnt aes xsave avx f16c rdrand hypervisor lahf_lm abm invpcid_single ssbd ibrs ibpb stibp fsgsbase tsc_adjust bmi1 avx2 smep bmi2 erms invpcid xsaveopt arat md_clear arch_capabilities\n",
            "bugs\t\t: cpu_meltdown spectre_v1 spectre_v2 spec_store_bypass l1tf mds swapgs\n",
            "bogomips\t: 4599.99\n",
            "clflush size\t: 64\n",
            "cache_alignment\t: 64\n",
            "address sizes\t: 46 bits physical, 48 bits virtual\n",
            "power management:\n",
            "\n"
          ]
        }
      ]
    },
    {
      "cell_type": "code",
      "source": [
        "!cat /proc/meminfo"
      ],
      "metadata": {
        "colab": {
          "base_uri": "https://localhost:8080/"
        },
        "id": "ygQPTS0ZIZ4c",
        "outputId": "81a748db-8051-43b0-d7bd-048c8ae3c2c4"
      },
      "execution_count": null,
      "outputs": [
        {
          "output_type": "stream",
          "name": "stdout",
          "text": [
            "MemTotal:       13298580 kB\n",
            "MemFree:        10019192 kB\n",
            "MemAvailable:   11988500 kB\n",
            "Buffers:          115028 kB\n",
            "Cached:          1950996 kB\n",
            "SwapCached:            0 kB\n",
            "Active:          1513096 kB\n",
            "Inactive:        1519236 kB\n",
            "Active(anon):     865416 kB\n",
            "Inactive(anon):      452 kB\n",
            "Active(file):     647680 kB\n",
            "Inactive(file):  1518784 kB\n",
            "Unevictable:           0 kB\n",
            "Mlocked:               0 kB\n",
            "SwapTotal:             0 kB\n",
            "SwapFree:              0 kB\n",
            "Dirty:               264 kB\n",
            "Writeback:             0 kB\n",
            "AnonPages:        966408 kB\n",
            "Mapped:           232744 kB\n",
            "Shmem:              1200 kB\n",
            "KReclaimable:      88592 kB\n",
            "Slab:             137532 kB\n",
            "SReclaimable:      88592 kB\n",
            "SUnreclaim:        48940 kB\n",
            "KernelStack:        5024 kB\n",
            "PageTables:        14216 kB\n",
            "NFS_Unstable:          0 kB\n",
            "Bounce:                0 kB\n",
            "WritebackTmp:          0 kB\n",
            "CommitLimit:     6649288 kB\n",
            "Committed_AS:    3059952 kB\n",
            "VmallocTotal:   34359738367 kB\n",
            "VmallocUsed:       47120 kB\n",
            "VmallocChunk:          0 kB\n",
            "Percpu:             1504 kB\n",
            "AnonHugePages:      2048 kB\n",
            "ShmemHugePages:        0 kB\n",
            "ShmemPmdMapped:        0 kB\n",
            "FileHugePages:         0 kB\n",
            "FilePmdMapped:         0 kB\n",
            "CmaTotal:              0 kB\n",
            "CmaFree:               0 kB\n",
            "HugePages_Total:       0\n",
            "HugePages_Free:        0\n",
            "HugePages_Rsvd:        0\n",
            "HugePages_Surp:        0\n",
            "Hugepagesize:       2048 kB\n",
            "Hugetlb:               0 kB\n",
            "DirectMap4k:      154432 kB\n",
            "DirectMap2M:     7182336 kB\n",
            "DirectMap1G:     8388608 kB\n"
          ]
        }
      ]
    },
    {
      "cell_type": "code",
      "source": [
        "!df -h"
      ],
      "metadata": {
        "colab": {
          "base_uri": "https://localhost:8080/"
        },
        "id": "-HIhk9hwIvmt",
        "outputId": "94afee2c-46f9-4c8a-94f1-837365318707"
      },
      "execution_count": null,
      "outputs": [
        {
          "output_type": "stream",
          "name": "stdout",
          "text": [
            "Filesystem      Size  Used Avail Use% Mounted on\n",
            "overlay          79G   39G   40G  50% /\n",
            "tmpfs            64M     0   64M   0% /dev\n",
            "shm             5.7G     0  5.7G   0% /dev/shm\n",
            "/dev/root       2.0G  1.2G  812M  59% /sbin/docker-init\n",
            "tmpfs           6.4G   28K  6.4G   1% /var/colab\n",
            "/dev/sda1        86G   44G   43G  51% /opt/bin/.nvidia\n",
            "tmpfs           6.4G     0  6.4G   0% /proc/acpi\n",
            "tmpfs           6.4G     0  6.4G   0% /proc/scsi\n",
            "tmpfs           6.4G     0  6.4G   0% /sys/firmware\n"
          ]
        }
      ]
    },
    {
      "cell_type": "code",
      "source": [
        "subNames = ['210319','210413','210505','210527',\n",
        "            '210708','210805','210909']"
      ],
      "metadata": {
        "id": "cdopIhEDK9IX"
      },
      "execution_count": null,
      "outputs": []
    },
    {
      "cell_type": "code",
      "source": [
        "import numpy as np \n",
        "\n",
        "sub_name = subNames[0]\n",
        "\n",
        "wpte = np.load('DBS_sub_210319_macro_4khz_9sec_ENCODE_filt_wpte.npy')"
      ],
      "metadata": {
        "id": "Et2DugSULJ5x"
      },
      "execution_count": null,
      "outputs": []
    },
    {
      "cell_type": "code",
      "source": [
        "print(wpte[0,0,:,:])"
      ],
      "metadata": {
        "colab": {
          "base_uri": "https://localhost:8080/"
        },
        "id": "lU70-buVTf7r",
        "outputId": "a913af5c-b343-4dd3-f62f-d127cf3a8ea3"
      },
      "execution_count": null,
      "outputs": [
        {
          "output_type": "stream",
          "name": "stdout",
          "text": [
            "[[1.38353973e+02 8.41194458e+01 5.03306923e+01 ... 4.53613625e+01\n",
            "  6.76928101e+01 1.00093544e+02]\n",
            " [1.86728333e+02 1.69467331e+02 1.57162949e+02 ... 2.29720306e+02\n",
            "  2.61724396e+02 3.02297180e+02]\n",
            " [3.58003693e+01 3.65970917e+01 3.39014282e+01 ... 5.44893122e+00\n",
            "  5.68185997e+00 5.63065243e+00]\n",
            " ...\n",
            " [1.08045759e-02 8.49502813e-03 6.69032894e-03 ... 2.54265033e-04\n",
            "  2.94888770e-04 3.49074457e-04]\n",
            " [4.97492962e-03 4.78560012e-03 3.87501135e-03 ... 2.07521225e-04\n",
            "  2.23285635e-04 2.29073761e-04]\n",
            " [1.82621251e-03 1.72858674e-03 1.70090969e-03 ... 9.64025821e-05\n",
            "  1.07247070e-04 1.08266184e-04]]\n"
          ]
        }
      ]
    },
    {
      "cell_type": "code",
      "source": [
        "print(wpte.shape)"
      ],
      "metadata": {
        "colab": {
          "base_uri": "https://localhost:8080/"
        },
        "id": "jScFCpZMTtb6",
        "outputId": "a57d383d-7dbb-44eb-96b0-b105467321fb"
      },
      "execution_count": null,
      "outputs": [
        {
          "output_type": "stream",
          "name": "stdout",
          "text": [
            "(120, 6, 516, 201)\n"
          ]
        }
      ]
    }
  ]
}